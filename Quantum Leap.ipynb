{
 "cells": [
  {
   "cell_type": "markdown",
   "metadata": {},
   "source": [
    "# **Quantum Leap**\n",
    "\n",
    "*Solved for 463 points*\n",
    "\n",
    "### Prompt:\n",
    "    \n",
    "    > My friend took the quantum leap and purchased a quantum computer with two qubits. They mentioned using a quantum logic gate to input the flag and they gave me the computers output. I have been stuck and Can NOT figure out the flag.\n",
    "\n",
    "### Additional Info Provided:\n",
    "\n",
    "* **1 Text file**, `output`, containing only the following string:\n",
    "\n",
    "    > wxqvn$Zae${deyZv$d\"i"
   ]
  },
  {
   "cell_type": "markdown",
   "metadata": {},
   "source": [
    "### Initial Thoughts:\n",
    "\n",
    "I'm guessing the Quantum Computing course from last semester might come in handy here! The main keywords I'm initially seeing in the prompt are `two qubits`, and that the the input flag went through a `quantum logic gate`. \n",
    "\n",
    "\n",
    "> In a terribly explained nutshell, qubits are just bits that occasionally have [special properties](https://www.geeksforgeeks.org/differnce-between-bits-and-quantum-bits/) like being able to represent a superposition of 0 and 1 at the same time. Similar to regular circuits of logic gates that can used to represet and manipulate digital bits (AND, OR, NOT, XOR, etc.), there are a number of single and multi qubit quantum logic gates that take advantage of unique properties of qubits (X, Y, Z, Hadamard, SWAP, etc.). That said, understanding exactly how qubits work within a quantum computer is definitely out of the scope of the problem--this seems like some sort of message decoding problem. \n",
    "\n",
    "\n",
    "So, after attempting to find my past class notes (and failing), I looked up `two qubit quantum gates` on Google to see how someone might be able to encode a secret message using two qubits:\n",
    "\n",
    "\n",
    "![](https://i.imgur.com/KKOG7SR.png)\n",
    "\n",
    "\n",
    "I get this Wikipedia article, which has a brief blurb about how **quantum logic gates are reversible** as well as a diagram of a few qubit gates and their operations. So however this text was encoded, the quantum logic gate was probably applied to the binary and you can apply the same one again to reverse the process. \n",
    "\n",
    "### How I solved it:\n",
    "\n",
    "I ran `xxd -b output` to convert the ASCII text file into binary and grabbed the first byte or so (`01110111`) from the output to try a handful of the two qubit gates informally. It was about at this point that I decided to reread the prompt and finally noticed the other hint: \"I have been stuck and **Can NOT** figure out the flag.\"\n",
    "\n",
    "On first glance, I initially noticed NOT was capitalized, maybe hinting at a classical NOT gate? \n",
    "\n",
    "I didn't see for quiiiiite a while that the C was capital as well. \n",
    "\n",
    "Can NOT = CNOT = [a simple 2 qubit quantum gate](https://en.wikipedia.org/wiki/Controlled_NOT_gate)\n",
    "\n",
    "![](https://i.imgur.com/GaeFg3B.png)\n",
    "\n",
    "After manually going through the first byte or two of the string by flipping every second bit if the preceding even bit is a 1, I saw that the ASCII `w`, or `01110111`, turned into an ASCII `f`, or `01100110`. \n",
    "\n",
    "**Success!**\n",
    "\n",
    "Now to build a Python script so that I don't have to do the rest manually\n",
    "\n",
    "\n",
    "### Let's first convert all of the ASCII to a bit string to make it easier to work with!"
   ]
  },
  {
   "cell_type": "code",
   "execution_count": 6,
   "metadata": {},
   "outputs": [
    {
     "name": "stdout",
     "output_type": "stream",
     "text": [
      "0111011101111000011100010111011001101110001001000101101001100001011001010010010001111011011001000110010101111001010110100111011000100100011001000010001001101001\n"
     ]
    }
   ],
   "source": [
    "# File contents of `output`: wxqvn$Zae${deyZv$d\"i\n",
    " \n",
    "# Initializing the ASCII string\n",
    "Text = 'wxqvn$Zae${deyZv$d\"i'\n",
    "\n",
    "# Now let's throw some functions from online in here that convert between ASCII and binary\n",
    "# Source: https://stackoverflow.com/a/7397689\n",
    "import binascii\n",
    "\n",
    "def text_to_bits(text, encoding='utf-8', errors='surrogatepass'):\n",
    "    bits = bin(int(binascii.hexlify(text.encode(encoding, errors)), 16))[2:]\n",
    "    return bits.zfill(8 * ((len(bits) + 7) // 8))\n",
    "\n",
    "def text_from_bits(bits, encoding='utf-8', errors='surrogatepass'):\n",
    "    n = int(bits, 2)\n",
    "    return int2bytes(n).decode(encoding, errors)\n",
    "\n",
    "def int2bytes(i):\n",
    "    hex_string = '%x' % i\n",
    "    n = len(hex_string)\n",
    "    return binascii.unhexlify(hex_string.zfill(n + (n & 1)))\n",
    " \n",
    "# Getting the Binary value\n",
    "binary = text_to_bits(Text)\n",
    "print(binary)"
   ]
  },
  {
   "cell_type": "markdown",
   "metadata": {},
   "source": [
    "### Now we have the binary, so let's apply the CNOT gate to it to get back the original input"
   ]
  },
  {
   "cell_type": "code",
   "execution_count": 7,
   "metadata": {},
   "outputs": [
    {
     "name": "stdout",
     "output_type": "stream",
     "text": [
      "0110011001101100011000010110011101111011001101000101111101110001011101010011010001101110011101000111010101101101010111110110011100110100011101000011001101111101\n",
      "160 bits, 160 after cnot\n"
     ]
    }
   ],
   "source": [
    "i = 0\n",
    "cnot_binary = ''\n",
    "\n",
    "# Applies 2 bit CNOT operation on a string of bits (flips every second bit if the first bit is a 1)\n",
    "while i < len(binary):\n",
    "\n",
    "    # Add the even bits since they're never flipped\n",
    "    cnot_binary += binary[i]\n",
    "\n",
    "    # Then flip next bit if the first one is a 1\n",
    "    if binary[i] == '1':\n",
    "        if binary[i+1] == '0':\n",
    "                cnot_binary += '1'\n",
    "        else:\n",
    "            cnot_binary += '0'\n",
    "    else:\n",
    "        cnot_binary += binary[i+1]\n",
    "    \n",
    "    # Checking every other bit\n",
    "    i+=2\n",
    "\n",
    "print(cnot_binary)\n",
    "\n",
    "# Sanity check that the string lengths are the same\n",
    "print(str(len(binary)) + \" bits, \" + str(len(cnot_binary)) + \" after cnot\")"
   ]
  },
  {
   "cell_type": "markdown",
   "metadata": {},
   "source": [
    "### And finally, let's convert back from bits to ASCII using the text_from_bits function we found above!"
   ]
  },
  {
   "cell_type": "code",
   "execution_count": 8,
   "metadata": {},
   "outputs": [
    {
     "name": "stdout",
     "output_type": "stream",
     "text": [
      "flag{4_qu4ntum_g4t3}\n"
     ]
    }
   ],
   "source": [
    "print(text_from_bits(cnot_binary))"
   ]
  }
 ],
 "metadata": {
  "kernelspec": {
   "display_name": "Python 3.8.8 ('base')",
   "language": "python",
   "name": "python3"
  },
  "language_info": {
   "codemirror_mode": {
    "name": "ipython",
    "version": 3
   },
   "file_extension": ".py",
   "mimetype": "text/x-python",
   "name": "python",
   "nbconvert_exporter": "python",
   "pygments_lexer": "ipython3",
   "version": "3.8.8"
  },
  "orig_nbformat": 4,
  "vscode": {
   "interpreter": {
    "hash": "ffc5af0c14dc3b13050e13e155dcf58dddac8da9087726d65f9fb528226afef5"
   }
  }
 },
 "nbformat": 4,
 "nbformat_minor": 2
}
